{
  "nbformat": 4,
  "nbformat_minor": 0,
  "metadata": {
    "colab": {
      "provenance": [],
      "authorship_tag": "ABX9TyPOJUexjaz1n8TXLIE4d2ra",
      "include_colab_link": true
    },
    "kernelspec": {
      "name": "python3",
      "display_name": "Python 3"
    },
    "language_info": {
      "name": "python"
    }
  },
  "cells": [
    {
      "cell_type": "markdown",
      "metadata": {
        "id": "view-in-github",
        "colab_type": "text"
      },
      "source": [
        "<a href=\"https://colab.research.google.com/github/JEETMANISHBOBDE/Week-1/blob/main/solar_power_dataset_csv.ipynb\" target=\"_parent\"><img src=\"https://colab.research.google.com/assets/colab-badge.svg\" alt=\"Open In Colab\"/></a>"
      ]
    },
    {
      "cell_type": "code",
      "source": [
        "import numpy as np\n",
        "import pandas as pd\n",
        "\n",
        "np.random.seed(42)\n",
        "n_samples = 500\n",
        "\n",
        "solar_irradiance = np.random.uniform(4, 8, n_samples)  # kW/m²\n",
        "temperature = np.random.uniform(20, 40, n_samples)     # °C\n",
        "humidity = np.random.uniform(30, 70, n_samples)        # %\n",
        "wind_speed = np.random.uniform(1, 5, n_samples)        # m/s\n",
        "\n",
        "solar_power_output = (\n",
        "    0.8 * solar_irradiance +\n",
        "    0.2 * temperature -\n",
        "    0.05 * humidity +\n",
        "    0.1 * wind_speed +\n",
        "    np.random.normal(0, 0.5, n_samples)\n",
        ")\n",
        "\n",
        "data = pd.DataFrame({\n",
        "    'Solar Irradiance (kW/m²)': solar_irradiance,\n",
        "    'Temperature (°C)': temperature,\n",
        "    'Humidity (%)': humidity,\n",
        "    'Wind Speed (m/s)': wind_speed,\n",
        "    'Solar Power Output (kWh)': solar_power_output\n",
        "})\n",
        "\n",
        "data.to_csv('solar_power_dataset.csv', index=False)\n",
        "\n",
        "print(\"Dataset generated and saved as 'solar_power_dataset.csv'\")\n",
        "print(\"\\nSample Dataset:\")\n",
        "print(data.head())\n"
      ],
      "metadata": {
        "colab": {
          "base_uri": "https://localhost:8080/"
        },
        "id": "9edpdhc1R8Ih",
        "outputId": "8fb0cb46-c8fc-4a6a-fe00-24fc4e5d1930"
      },
      "execution_count": 2,
      "outputs": [
        {
          "output_type": "stream",
          "name": "stdout",
          "text": [
            "Dataset generated and saved as 'solar_power_dataset.csv'\n",
            "\n",
            "Sample Dataset:\n",
            "   Solar Irradiance (kW/m²)  Temperature (°C)  Humidity (%)  Wind Speed (m/s)  \\\n",
            "0                  5.498160         33.963234     37.405317          3.076327   \n",
            "1                  7.802857         30.721927     51.676038          2.916728   \n",
            "2                  6.927976         26.190552     64.917833          1.102568   \n",
            "3                  6.394634         36.275900     59.288995          2.364991   \n",
            "4                  4.624075         33.694623     62.262446          2.520782   \n",
            "\n",
            "   Solar Power Output (kWh)  \n",
            "0                  9.189551  \n",
            "1                  9.681102  \n",
            "2                  7.531617  \n",
            "3                  9.826619  \n",
            "4                  8.033933  \n"
          ]
        }
      ]
    }
  ]
}